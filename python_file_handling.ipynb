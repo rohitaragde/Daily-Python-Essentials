{
 "cells": [
  {
   "cell_type": "markdown",
   "metadata": {},
   "source": [
    "Python File Handling\n",
    "\n",
    "File handling is an important part of any web application.\n",
    "\n",
    "Python has several functions for creating, reading, updating, and deleting files."
   ]
  },
  {
   "cell_type": "markdown",
   "metadata": {},
   "source": [
    "File Handling\n",
    "\n",
    "The key function for working with files in Python is the open() function.\n",
    "\n",
    "The open() function takes two parameters; filename, and mode.\n",
    "\n",
    "There are four different methods (modes) for opening a file:\n",
    "\n",
    "\"r\" - Read - Default value. Opens a file for reading, error if the file does not exist\n",
    "\n",
    "\"a\" - Append - Opens a file for appending, creates the file if it does not exist\n",
    "\n",
    "\"w\" - Write - Opens a file for writing, creates the file if it does not exist\n",
    "\n",
    "\"x\" - Create - Creates the specified file, returns an error if the file exists"
   ]
  },
  {
   "cell_type": "markdown",
   "metadata": {},
   "source": [
    "In addition you can specify if the file should be handled as binary or text mode\n",
    "\n",
    "\"t\" - Text - Default value. Text mode\n",
    "\n",
    "\"b\" - Binary - Binary mode (e.g. images)"
   ]
  },
  {
   "cell_type": "code",
   "execution_count": 1,
   "metadata": {},
   "outputs": [],
   "source": [
    "# To open a file for reading it is enough to specify the name of the file:\n",
    "\n",
    "f=open(\"demofile.txt\")"
   ]
  },
  {
   "cell_type": "code",
   "execution_count": 2,
   "metadata": {},
   "outputs": [],
   "source": [
    "# The code above is the same as:\n",
    "\n",
    "f = open(\"demofile.txt\", \"rt\")\n",
    "\n",
    "# Because \"r\" for read, and \"t\" for text are the default values, you do not need to specify them.\n",
    "\n",
    "# Note: Make sure the file exists, or else you will get an error."
   ]
  },
  {
   "cell_type": "markdown",
   "metadata": {},
   "source": [
    "Open a File on the Server\n",
    "\n",
    "Assume we have the following file, located in the same folder as Python:\n",
    "\n",
    "demofile.txt\n",
    "\n",
    "Hello! Welcome to demofile.txt\n",
    "This file is for testing purposes.\n",
    "Good Luck!"
   ]
  },
  {
   "cell_type": "code",
   "execution_count": 4,
   "metadata": {},
   "outputs": [
    {
     "name": "stdout",
     "output_type": "stream",
     "text": [
      "Hello! Welcome to demofile.txt\n",
      "This file is for testing purposes.\n",
      "Good Luck!\n"
     ]
    }
   ],
   "source": [
    "# To open the file, use the built-in open() function.\n",
    "# The open() function returns a file object, which has a read() method for reading the content of the file:\n",
    "\n",
    "f = open(\"demofile.txt\", \"r\")\n",
    "print(f.read())"
   ]
  },
  {
   "cell_type": "code",
   "execution_count": 5,
   "metadata": {},
   "outputs": [
    {
     "name": "stdout",
     "output_type": "stream",
     "text": [
      "Hello\n"
     ]
    }
   ],
   "source": [
    "# Read Only Parts of the File\n",
    "#By default the read() method returns the whole text, \n",
    "# but you can also specify how many characters you want to return:\n",
    "\n",
    "# Return the 5 first characters of the file:\n",
    "\n",
    "f=open(\"demofile.txt\",\"r\")\n",
    "print(f.read(5))"
   ]
  },
  {
   "cell_type": "code",
   "execution_count": 6,
   "metadata": {},
   "outputs": [
    {
     "name": "stdout",
     "output_type": "stream",
     "text": [
      "Hello! Welcome to demofile.txt\n",
      "\n"
     ]
    }
   ],
   "source": [
    "# Read Lines\n",
    "# You can return one line by using the readline() method:\n",
    "\n",
    "# Read one line of the file:\n",
    "\n",
    "f=open(\"demofile.txt\",\"r\")\n",
    "print(f.readline())"
   ]
  },
  {
   "cell_type": "code",
   "execution_count": 7,
   "metadata": {},
   "outputs": [
    {
     "name": "stdout",
     "output_type": "stream",
     "text": [
      "Hello! Welcome to demofile.txt\n",
      "\n",
      "This file is for testing purposes.\n",
      "\n"
     ]
    }
   ],
   "source": [
    "# By calling readline() two times, you can read the two first lines:\n",
    "\n",
    "# Read two lines of the file:\n",
    "\n",
    "f=open(\"demofile.txt\",\"r\")\n",
    "print(f.readline())\n",
    "print(f.readline())\n",
    "\n"
   ]
  },
  {
   "cell_type": "code",
   "execution_count": 8,
   "metadata": {},
   "outputs": [
    {
     "name": "stdout",
     "output_type": "stream",
     "text": [
      "Hello! Welcome to demofile.txt\n",
      "\n",
      "This file is for testing purposes.\n",
      "\n",
      "Good Luck!\n"
     ]
    }
   ],
   "source": [
    "# By looping through the lines of the file, you can read the whole file, line by line:\n",
    "\n",
    "# Loop through the file line by line:\n",
    "\n",
    "f=open(\"demofile.txt\",\"r\")\n",
    "\n",
    "for x in f:\n",
    "    print(x)"
   ]
  },
  {
   "cell_type": "code",
   "execution_count": 20,
   "metadata": {},
   "outputs": [
    {
     "name": "stdout",
     "output_type": "stream",
     "text": [
      "Hello! Welcome to demofile.txt\n",
      "\n"
     ]
    }
   ],
   "source": [
    "# Close Files\n",
    "#It is a good practice to always close the file when you are done with it.\n",
    "\n",
    "# Close the file when you are finish with it:\n",
    "\n",
    "f=open(\"demofile.txt\",\"r\")\n",
    "print(f.readline())\n",
    "f.close()\n",
    "\n",
    "# Note: You should always close your files, in some cases, due to buffering, \n",
    "# changes made to a file may not show until you close the file.\n",
    "\n"
   ]
  },
  {
   "cell_type": "markdown",
   "metadata": {},
   "source": [
    "Python Write File\n",
    "\n",
    "Write to an Existing File\n",
    "\n",
    "To write to an existing file, you must add a parameter to the open() function:\n",
    "\n",
    "\"a\" - Append - will append to the end of the file\n",
    "\n",
    "\"w\" - Write - will overwrite any existing content"
   ]
  },
  {
   "cell_type": "code",
   "execution_count": 21,
   "metadata": {},
   "outputs": [
    {
     "name": "stdout",
     "output_type": "stream",
     "text": [
      "Now the file has more content!Now the file has more content!Now the file has more content!\n"
     ]
    }
   ],
   "source": [
    "# Open the file \"demofile2.txt\" and append content to the file:\n",
    "\n",
    "f=open(\"demofile2.txt\",\"a\")\n",
    "f.write(\"Now the file has more content!\")\n",
    "f.close()\n",
    "\n",
    "# open and read the file after appending\n",
    "f=open(\"demofile2.txt\",\"r\")\n",
    "print(f.read())"
   ]
  },
  {
   "cell_type": "code",
   "execution_count": 22,
   "metadata": {},
   "outputs": [
    {
     "name": "stdout",
     "output_type": "stream",
     "text": [
      "Woops! I have deleted the content!\n"
     ]
    }
   ],
   "source": [
    "# Open the file \"demofile3.txt\" and overwrite the content:\n",
    "\n",
    "f=open(\"demofile3.txt\",\"w\")\n",
    "f.write(\"Woops! I have deleted the content!\")\n",
    "f.close()\n",
    "\n",
    "# open and read the file after the overwriting:\n",
    "f=open(\"demofile3.txt\",\"r\")\n",
    "print(f.read())\n",
    "\n",
    "# Note: the \"w\" method will overwrite the entire file."
   ]
  },
  {
   "cell_type": "markdown",
   "metadata": {},
   "source": [
    "Create a New File\n",
    "\n",
    "To create a new file in Python, use the open() method, with one of the following parameters:\n",
    "\n",
    "\"x\" - Create - will create a file, returns an error if the file exist\n",
    "\n",
    "\"a\" - Append - will create a file if the specified file does not exist\n",
    "\n",
    "\"w\" - Write - will create a file if the specified file does not exist"
   ]
  },
  {
   "cell_type": "code",
   "execution_count": 24,
   "metadata": {},
   "outputs": [],
   "source": [
    "# Create a file called \"myfile.txt\":\n",
    "f=open(\"myfile.txt\",\"x\")\n",
    "# Result: a new empty file is created!"
   ]
  },
  {
   "cell_type": "code",
   "execution_count": 25,
   "metadata": {},
   "outputs": [],
   "source": [
    "# Create a new file if it does not exist:\n",
    "\n",
    "f=open(\"myfile.txt\",\"w\")"
   ]
  },
  {
   "cell_type": "markdown",
   "metadata": {},
   "source": [
    "Python Delete File\n",
    "\n",
    "Delete a File\n",
    "\n",
    "To delete a file, you must import the OS module, and run its os.remove() function:\n",
    "\n"
   ]
  },
  {
   "cell_type": "code",
   "execution_count": 26,
   "metadata": {},
   "outputs": [],
   "source": [
    "# Remove the file \"demofile.txt\":\n",
    "\n",
    "import os\n",
    "os.remove(\"demofile.txt\")"
   ]
  },
  {
   "cell_type": "code",
   "execution_count": 27,
   "metadata": {},
   "outputs": [
    {
     "name": "stdout",
     "output_type": "stream",
     "text": [
      "The file does not exist\n"
     ]
    }
   ],
   "source": [
    "# Check if File exist:\n",
    "# To avoid getting an error, you might want to check if the file exists before you try to delete it:\n",
    "\n",
    "# Check if file exists, then delete it:\n",
    "\n",
    "import os\n",
    "\n",
    "if os.path.exists(\"demofile.txt\"):\n",
    "    os.remove(\"demofile.txt\")\n",
    "else:\n",
    "    print(\"The file does not exist\")"
   ]
  },
  {
   "cell_type": "code",
   "execution_count": 29,
   "metadata": {},
   "outputs": [],
   "source": [
    "# Delete Folder\n",
    "# To delete an entire folder, use the os.rmdir() method:\n",
    "\n",
    "# Remove the folder \"myfolder\"\n",
    "\n",
    "import os\n",
    "os.rmdir(\"myfolder\")\n",
    "\n",
    "# Note: You can only remove empty folders."
   ]
  }
 ],
 "metadata": {
  "kernelspec": {
   "display_name": "base",
   "language": "python",
   "name": "python3"
  },
  "language_info": {
   "codemirror_mode": {
    "name": "ipython",
    "version": 3
   },
   "file_extension": ".py",
   "mimetype": "text/x-python",
   "name": "python",
   "nbconvert_exporter": "python",
   "pygments_lexer": "ipython3",
   "version": "3.10.12"
  }
 },
 "nbformat": 4,
 "nbformat_minor": 2
}

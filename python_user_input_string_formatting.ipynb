{
 "cells": [
  {
   "cell_type": "markdown",
   "metadata": {},
   "source": [
    "User Input\n",
    "\n",
    "Python allows for user input.\n",
    "\n",
    "That means we are able to ask the user for input.\n",
    "\n",
    "The method is a bit different in Python 3.6 than Python 2.7.\n",
    "\n",
    "Python 3.6 uses the input() method.\n",
    "\n",
    "Python 2.7 uses the raw_input() method.\n",
    "\n",
    "The following example asks for the username, and when you entered the username, it gets printed on the screen:"
   ]
  },
  {
   "cell_type": "code",
   "execution_count": 1,
   "metadata": {},
   "outputs": [
    {
     "name": "stdout",
     "output_type": "stream",
     "text": [
      "Username is: rohit\n"
     ]
    }
   ],
   "source": [
    "username=input(\"Enter username:\")\n",
    "print(\"Username is: \" + username)\n",
    "\n",
    "# Note : Python stops executing when it comes to the input() function, and continues when the user has given some input."
   ]
  },
  {
   "cell_type": "markdown",
   "metadata": {},
   "source": [
    "Python String Formatting \n",
    "\n",
    "F-String was introduced in Python 3.6, and is now the preferred way of formatting strings.\n",
    "\n",
    "Before Python 3.6 we had to use the format() method.\n",
    "\n",
    "F-Strings\n",
    "F-string allows you to format selected parts of a string.\n",
    "\n",
    "To specify a string as an f-string, simply put an f in front of the string literal, like this:\n"
   ]
  },
  {
   "cell_type": "code",
   "execution_count": 2,
   "metadata": {},
   "outputs": [
    {
     "name": "stdout",
     "output_type": "stream",
     "text": [
      "The price is 49 dollars\n"
     ]
    }
   ],
   "source": [
    "# Create an f-string:\n",
    "\n",
    "txt= f\"The price is 49 dollars\"\n",
    "print(txt)"
   ]
  },
  {
   "cell_type": "markdown",
   "metadata": {},
   "source": [
    "Placeholders and Modifiers\n",
    "\n",
    "To format values in an f-string, add placeholders {}, a placeholder can contain variables, operations, functions, and modifiers to format the value."
   ]
  },
  {
   "cell_type": "code",
   "execution_count": 3,
   "metadata": {},
   "outputs": [
    {
     "name": "stdout",
     "output_type": "stream",
     "text": [
      "The price is 59 dollars\n"
     ]
    }
   ],
   "source": [
    "# Add a placeholder for the price variable:\n",
    "\n",
    "price=59\n",
    "txt=f\"The price is {price} dollars\"\n",
    "print(txt)"
   ]
  },
  {
   "cell_type": "markdown",
   "metadata": {},
   "source": [
    "A placeholder can also include a modifier to format the value.\n",
    "\n",
    "A modifier is included by adding a colon : followed by a legal formatting type, like .2f which means fixed point number with 2 decimals:"
   ]
  },
  {
   "cell_type": "code",
   "execution_count": 9,
   "metadata": {},
   "outputs": [
    {
     "name": "stdout",
     "output_type": "stream",
     "text": [
      "The price is 59.00 dollars\n"
     ]
    }
   ],
   "source": [
    "# Display the price with 2 decimals:\n",
    "\n",
    "price = 59\n",
    "txt = f\"The price is {price:.2f} dollars\"\n",
    "print(txt)"
   ]
  },
  {
   "cell_type": "code",
   "execution_count": 10,
   "metadata": {},
   "outputs": [
    {
     "name": "stdout",
     "output_type": "stream",
     "text": [
      "The price is 95.00 dollars\n"
     ]
    }
   ],
   "source": [
    "# You can also format a value directly without keeping it in a variable:\n",
    "# Display the value 95 with 2 decimals:\n",
    "\n",
    "txt = f\"The price is {95:.2f} dollars\"\n",
    "print(txt)"
   ]
  },
  {
   "cell_type": "markdown",
   "metadata": {},
   "source": [
    "Perform Operations in F-Strings\n",
    "\n",
    "You can perform Python operations inside the placeholders.\n",
    "\n",
    "You can do math operations:"
   ]
  },
  {
   "cell_type": "code",
   "execution_count": 5,
   "metadata": {},
   "outputs": [
    {
     "name": "stdout",
     "output_type": "stream",
     "text": [
      "The price is 1180 dollars\n"
     ]
    }
   ],
   "source": [
    "# Perform a math operation in the placeholder, and return the result:\n",
    "\n",
    "txt = f\"The price is {20 * 59} dollars\"\n",
    "print(txt)"
   ]
  },
  {
   "cell_type": "code",
   "execution_count": 6,
   "metadata": {},
   "outputs": [
    {
     "name": "stdout",
     "output_type": "stream",
     "text": [
      "The price is 73.75 dollars\n"
     ]
    }
   ],
   "source": [
    "# You can perform math operations on variables:\n",
    "# Add taxes before displaying the price:\n",
    "\n",
    "price = 59\n",
    "tax = 0.25\n",
    "txt = f\"The price is {price + (price * tax)} dollars\"\n",
    "print(txt)"
   ]
  },
  {
   "cell_type": "code",
   "execution_count": 7,
   "metadata": {},
   "outputs": [
    {
     "name": "stdout",
     "output_type": "stream",
     "text": [
      "It is very Cheap\n"
     ]
    }
   ],
   "source": [
    "# You can perform if...else statements inside the placeholders:\n",
    "# Return \"Expensive\" if the price is over 50, otherwise return \"Cheap\":\n",
    "\n",
    "price = 49\n",
    "txt = f\"It is very {'Expensive' if price>50 else 'Cheap'}\"\n",
    "\n",
    "print(txt)"
   ]
  },
  {
   "cell_type": "code",
   "execution_count": 8,
   "metadata": {},
   "outputs": [
    {
     "name": "stdout",
     "output_type": "stream",
     "text": [
      "I love APPLES\n"
     ]
    }
   ],
   "source": [
    "# Execute Functions in F-Strings\n",
    "# You can execute functions inside the placeholder:\n",
    "# Use the string method upper()to convert a value into upper case letters:\n",
    "\n",
    "fruit = \"apples\"\n",
    "txt = f\"I love {fruit.upper()}\"\n",
    "print(txt)"
   ]
  },
  {
   "cell_type": "code",
   "execution_count": 11,
   "metadata": {},
   "outputs": [
    {
     "name": "stdout",
     "output_type": "stream",
     "text": [
      "The plane is flying at a 9144.0 meter altitude\n"
     ]
    }
   ],
   "source": [
    "# The function does not have to be a built-in Python method, you can create your own functions and use them:\n",
    "# Create a function that converts feet into meters:\n",
    "\n",
    "def myconverter(x):\n",
    "  return x * 0.3048\n",
    "\n",
    "txt = f\"The plane is flying at a {myconverter(30000)} meter altitude\"\n",
    "print(txt)"
   ]
  },
  {
   "cell_type": "markdown",
   "metadata": {},
   "source": [
    "More Modifiers\n",
    "\n",
    "At the beginning of this chapter we explained how to use the .2f modifier to format a number into a fixed point number with 2 decimals.\n",
    "\n",
    "There are several other modifiers that can be used to format values:"
   ]
  },
  {
   "cell_type": "code",
   "execution_count": 14,
   "metadata": {},
   "outputs": [
    {
     "name": "stdout",
     "output_type": "stream",
     "text": [
      "The price is 59,000 dollars\n"
     ]
    }
   ],
   "source": [
    "# Use a comma as a thousand separator:\n",
    "\n",
    "price=59000\n",
    "txt=f\"The price is {price:,} dollars\"\n",
    "print(txt)"
   ]
  },
  {
   "cell_type": "markdown",
   "metadata": {},
   "source": [
    "String format()\n",
    "\n",
    "Before Python 3.6 we used the format() method to format strings.\n",
    "\n",
    "The format() method can still be used, but f-strings are faster and the preferred way to format strings.\n",
    "\n",
    "The next examples in this page demonstrates how to format strings with the format() method.\n",
    "\n",
    "The format() method also uses curly brackets as placeholders {}, but the syntax is slightly different:"
   ]
  },
  {
   "cell_type": "code",
   "execution_count": 15,
   "metadata": {},
   "outputs": [
    {
     "name": "stdout",
     "output_type": "stream",
     "text": [
      "The price is 49 dollars\n"
     ]
    }
   ],
   "source": [
    "# Add a placeholder where you want to display the price:\n",
    "\n",
    "price=49\n",
    "txt=\"The price is {} dollars\"\n",
    "print(txt.format(price))"
   ]
  },
  {
   "cell_type": "code",
   "execution_count": 17,
   "metadata": {},
   "outputs": [
    {
     "name": "stdout",
     "output_type": "stream",
     "text": [
      "The price is 49 dollars\n"
     ]
    }
   ],
   "source": [
    "price=49\n",
    "txt=f\"The price is {price} dollars\"\n",
    "print(txt)\n"
   ]
  },
  {
   "cell_type": "code",
   "execution_count": 18,
   "metadata": {},
   "outputs": [
    {
     "name": "stdout",
     "output_type": "stream",
     "text": [
      "The price is 49.00 dollars\n"
     ]
    }
   ],
   "source": [
    "# You can add parameters inside the curly brackets to specify how to convert the value:\n",
    "# Format the price to be displayed as a number with two decimals:\n",
    "\n",
    "price = 49\n",
    "txt = \"The price is {:.2f} dollars\"\n",
    "print(txt.format(price))"
   ]
  },
  {
   "cell_type": "code",
   "execution_count": 20,
   "metadata": {},
   "outputs": [
    {
     "name": "stdout",
     "output_type": "stream",
     "text": [
      "The price is 49.00 dollars\n"
     ]
    }
   ],
   "source": [
    "price=49\n",
    "txt=f\"The price is {price:.2f} dollars\"\n",
    "print(txt)"
   ]
  },
  {
   "cell_type": "code",
   "execution_count": 21,
   "metadata": {},
   "outputs": [
    {
     "name": "stdout",
     "output_type": "stream",
     "text": [
      "I want 3 pieces of item number 567 for 49.00 dollars.\n"
     ]
    }
   ],
   "source": [
    "#Multiple Values\n",
    "# If you want to use more values, just add more values to the format() method:\n",
    "\n",
    "quantity = 3\n",
    "itemno = 567\n",
    "price = 49\n",
    "myorder = \"I want {} pieces of item number {} for {:.2f} dollars.\"\n",
    "print(myorder.format(quantity, itemno, price))"
   ]
  },
  {
   "cell_type": "code",
   "execution_count": 22,
   "metadata": {},
   "outputs": [
    {
     "name": "stdout",
     "output_type": "stream",
     "text": [
      "I want 3 pieces of item number 567 for 49.00 dollars.\n"
     ]
    }
   ],
   "source": [
    "quantity = 3\n",
    "itemno = 567\n",
    "price = 49\n",
    "myorder= f\"I want {quantity} pieces of item number {itemno} for {price:.2f} dollars.\"\n",
    "print(myorder)"
   ]
  },
  {
   "cell_type": "code",
   "execution_count": 23,
   "metadata": {},
   "outputs": [
    {
     "name": "stdout",
     "output_type": "stream",
     "text": [
      "I want 3 pieces of item number 567 for 49.00 dollars.\n"
     ]
    }
   ],
   "source": [
    "# Index Numbers\n",
    "# You can use index numbers (a number inside the curly brackets {0}) to be sure the values are placed\n",
    "# in the correct placeholders:\n",
    "\n",
    "quantity = 3\n",
    "itemno = 567\n",
    "price = 49\n",
    "myorder = \"I want {0} pieces of item number {1} for {2:.2f} dollars.\"\n",
    "print(myorder.format(quantity, itemno, price))"
   ]
  },
  {
   "cell_type": "code",
   "execution_count": 24,
   "metadata": {},
   "outputs": [
    {
     "name": "stdout",
     "output_type": "stream",
     "text": [
      "His name is John. John is 36 years old.\n"
     ]
    }
   ],
   "source": [
    "# Also, if you want to refer to the same value more than once, use the index number:\n",
    "\n",
    "age = 36\n",
    "name = \"John\"\n",
    "txt = \"His name is {1}. {1} is {0} years old.\"\n",
    "print(txt.format(age, name))"
   ]
  },
  {
   "cell_type": "code",
   "execution_count": 25,
   "metadata": {},
   "outputs": [
    {
     "name": "stdout",
     "output_type": "stream",
     "text": [
      "I have a Ford, it is a Mustang.\n"
     ]
    }
   ],
   "source": [
    "# Named Indexes\n",
    "# You can also use named indexes by entering a name inside the curly brackets {carname},\n",
    "# but then you must use names when you pass the parameter values txt.format(carname = \"Ford\"):\n",
    "\n",
    "myorder = \"I have a {carname}, it is a {model}.\"\n",
    "print(myorder.format(carname = \"Ford\", model = \"Mustang\"))"
   ]
  },
  {
   "cell_type": "code",
   "execution_count": 26,
   "metadata": {},
   "outputs": [
    {
     "name": "stdout",
     "output_type": "stream",
     "text": [
      "I have a Ford, it is a Mustang.\n"
     ]
    }
   ],
   "source": [
    "car=\"Ford\"\n",
    "model=\"Mustang\"\n",
    "\n",
    "txt=f\"I have a {car}, it is a {model}.\"\n",
    "print(txt)"
   ]
  }
 ],
 "metadata": {
  "kernelspec": {
   "display_name": "base",
   "language": "python",
   "name": "python3"
  },
  "language_info": {
   "codemirror_mode": {
    "name": "ipython",
    "version": 3
   },
   "file_extension": ".py",
   "mimetype": "text/x-python",
   "name": "python",
   "nbconvert_exporter": "python",
   "pygments_lexer": "ipython3",
   "version": "3.10.12"
  }
 },
 "nbformat": 4,
 "nbformat_minor": 2
}

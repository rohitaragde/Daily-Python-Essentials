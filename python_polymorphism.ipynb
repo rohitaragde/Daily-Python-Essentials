{
 "cells": [
  {
   "cell_type": "markdown",
   "metadata": {},
   "source": [
    "Polymorphism\n",
    "\n",
    "The word \"polymorphism\" means \"many forms\", and in programming it refers to methods/functions/operators with the same name that can be executed on many objects or classes.\n",
    "\n",
    "Function Polymorphism\n",
    "\n",
    "An example of a Python function that can be used on different objects is the len() function."
   ]
  },
  {
   "cell_type": "code",
   "execution_count": 1,
   "metadata": {},
   "outputs": [
    {
     "name": "stdout",
     "output_type": "stream",
     "text": [
      "11\n"
     ]
    }
   ],
   "source": [
    "# String\n",
    "# For strings len() returns the number of characters:\n",
    "\n",
    "x= \"Hello World\"\n",
    "print(len(x))"
   ]
  },
  {
   "cell_type": "code",
   "execution_count": 2,
   "metadata": {},
   "outputs": [
    {
     "name": "stdout",
     "output_type": "stream",
     "text": [
      "3\n"
     ]
    }
   ],
   "source": [
    "# Tuple\n",
    "# For tuples len() returns the number of items in the tuple:\n",
    "\n",
    "mytuple=(\"apple\",\"banana\",\"cherry\")\n",
    "\n",
    "print(len(mytuple))"
   ]
  },
  {
   "cell_type": "code",
   "execution_count": 4,
   "metadata": {},
   "outputs": [
    {
     "name": "stdout",
     "output_type": "stream",
     "text": [
      "3\n"
     ]
    }
   ],
   "source": [
    "# Dictionary\n",
    "# For dictionaries len() returns the number of key/value pairs in the dictionary:\n",
    "\n",
    "thisDict={\n",
    "    \"brand\":\"Ford\",\n",
    "    \"model\":\"Mustang\",\n",
    "    \"year\":\"1964\"\n",
    "}\n",
    "\n",
    "print(len(thisDict))"
   ]
  },
  {
   "cell_type": "markdown",
   "metadata": {},
   "source": [
    "Class Polymorphism\n",
    "\n",
    "Polymorphism is often used in Class methods, where we can have multiple classes with the same method name.\n",
    "\n",
    "For example, say we have three classes: Car, Boat, and Plane, and they all have a method called move():"
   ]
  },
  {
   "cell_type": "code",
   "execution_count": 8,
   "metadata": {},
   "outputs": [
    {
     "name": "stdout",
     "output_type": "stream",
     "text": [
      "Drive\n",
      "Sail!\n",
      "Fly\n"
     ]
    }
   ],
   "source": [
    "# Different classes with the same method:\n",
    "\n",
    "class Car:\n",
    "    def __init__(self,brand,model):\n",
    "        self.brand=brand\n",
    "        self.model=model \n",
    "        \n",
    "    def move(self):\n",
    "        print('Drive')\n",
    "        \n",
    "class Boat:\n",
    "    def __init__(self,brand,model):\n",
    "        self.brand=brand\n",
    "        self.model=model\n",
    "        \n",
    "    def move(self):\n",
    "        print('Sail!')\n",
    "        \n",
    "class Plane:\n",
    "    def __init__(self,brand,model):\n",
    "        self.brand=brand\n",
    "        self.model=model \n",
    "        \n",
    "    def move(self):\n",
    "        print('Fly')\n",
    "        \n",
    "car1=Car(\"Ford\",\"Mustang\")\n",
    "boat1=Boat(\"Ibiza\",\"Touring 20\")\n",
    "plane1=Plane(\"Boeing\",\"747\")\n",
    "\n",
    "for x in(car1,boat1,plane1):\n",
    "    x.move()\n",
    "    \n",
    "# Look at the for loop at the end. Because of polymorphism we can execute the same method for all three classes\n",
    "        "
   ]
  },
  {
   "cell_type": "markdown",
   "metadata": {},
   "source": [
    "Inheritance Class Polymorphism\n",
    "\n",
    "What about classes with child classes with the same name? Can we use polymorphism there?\n",
    "\n",
    "Yes. If we use the example above and make a parent class called Vehicle, and make Car, Boat, Plane child classes of Vehicle, the child classes inherits the Vehicle methods, but can override them:"
   ]
  },
  {
   "cell_type": "code",
   "execution_count": 11,
   "metadata": {},
   "outputs": [
    {
     "name": "stdout",
     "output_type": "stream",
     "text": [
      "Ford\n",
      "Mustang\n",
      "Move!\n",
      "Ibiza\n",
      "Touring 20\n",
      "Sail!\n",
      "Boeing\n",
      "747\n",
      "Fly\n"
     ]
    }
   ],
   "source": [
    "# Create a class called Vehicle and make Car, Boat, Plane child classes of Vehicle:\n",
    "\n",
    "class Vehicle:\n",
    "    def __init__(self,brand,model):\n",
    "        self.brand=brand\n",
    "        self.model=model\n",
    "        \n",
    "    def move(self):\n",
    "        print(\"Move!\")\n",
    "        \n",
    "class Car(Vehicle):\n",
    "    pass \n",
    "\n",
    "class Boat(Vehicle):\n",
    "    def move(self):\n",
    "        print('Sail!')\n",
    "        \n",
    "class Plane(Vehicle):\n",
    "    def move(self):\n",
    "        print('Fly')\n",
    "        \n",
    "car1=Car(\"Ford\",\"Mustang\")\n",
    "boat1=Boat(\"Ibiza\",\"Touring 20\")\n",
    "plane1=Plane(\"Boeing\",\"747\")\n",
    "\n",
    "for x in(car1,boat1,plane1):\n",
    "    print(x.brand)\n",
    "    print(x.model)\n",
    "    x.move() \n",
    "    "
   ]
  },
  {
   "cell_type": "markdown",
   "metadata": {},
   "source": [
    "Child classes inherits the properties and methods from the parent class.\n",
    "\n",
    "In the example above you can see that the Car class is empty, but it inherits brand, model, and move() from Vehicle.\n",
    "\n",
    "The Boat and Plane classes also inherit brand, model, and move() from Vehicle, but they both override the move() method.\n",
    "\n",
    "Because of polymorphism we can execute the same method for all classes."
   ]
  }
 ],
 "metadata": {
  "kernelspec": {
   "display_name": "base",
   "language": "python",
   "name": "python3"
  },
  "language_info": {
   "codemirror_mode": {
    "name": "ipython",
    "version": 3
   },
   "file_extension": ".py",
   "mimetype": "text/x-python",
   "name": "python",
   "nbconvert_exporter": "python",
   "pygments_lexer": "ipython3",
   "version": "3.10.12"
  }
 },
 "nbformat": 4,
 "nbformat_minor": 2
}

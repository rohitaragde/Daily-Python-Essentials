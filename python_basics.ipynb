{
 "cells": [
  {
   "cell_type": "code",
   "execution_count": 9,
   "metadata": {},
   "outputs": [
    {
     "name": "stdout",
     "output_type": "stream",
     "text": [
      "Welcome to Data Engineering!\n"
     ]
    }
   ],
   "source": [
    "#Simple Print statement\n",
    "print(\"Welcome to Data Engineering!\")"
   ]
  },
  {
   "cell_type": "code",
   "execution_count": 10,
   "metadata": {},
   "outputs": [
    {
     "name": "stdout",
     "output_type": "stream",
     "text": [
      "Five is greater than Two!\n"
     ]
    }
   ],
   "source": [
    "# Basic Computations\n",
    "if 5 > 2:\n",
    "    print('Five is greater than Two!')\n",
    "    "
   ]
  },
  {
   "cell_type": "code",
   "execution_count": 8,
   "metadata": {},
   "outputs": [
    {
     "name": "stdout",
     "output_type": "stream",
     "text": [
      "Five is greater than two!\n",
      "Five is greater than Two!\n"
     ]
    }
   ],
   "source": [
    "if 5>2:\n",
    "    print('Five is greater than two!')\n",
    "if 5>2:\n",
    "     print('Five is greater than Two!')"
   ]
  },
  {
   "cell_type": "code",
   "execution_count": null,
   "metadata": {},
   "outputs": [],
   "source": [
    "#Commenting\n",
    "# print('Hello World!)"
   ]
  },
  {
   "cell_type": "code",
   "execution_count": 12,
   "metadata": {},
   "outputs": [
    {
     "name": "stdout",
     "output_type": "stream",
     "text": [
      "5\n",
      "John\n"
     ]
    }
   ],
   "source": [
    "#Python Variables\n",
    "'''Python has no command for declaring a variable.\n",
    "A variable is created the moment you first assign a value to it'''\n",
    "\n",
    "x=5\n",
    "y='John'\n",
    "print(x)\n",
    "print(y)"
   ]
  },
  {
   "cell_type": "code",
   "execution_count": 13,
   "metadata": {},
   "outputs": [
    {
     "name": "stdout",
     "output_type": "stream",
     "text": [
      "Rohit\n"
     ]
    }
   ],
   "source": [
    "# Variables do not need to be declared with any particular type, and can even change type after they have been set.\n",
    "x=4   #x of type int\n",
    "x='Rohit' #x of type str\n",
    "print(x)"
   ]
  },
  {
   "cell_type": "code",
   "execution_count": 15,
   "metadata": {},
   "outputs": [],
   "source": [
    "#Casting\n",
    "#If you want to specify the data type of a variable, this can be done with casting\n",
    "\n",
    "x=str(3)  # x will be '3'\n",
    "y=int(3)  # y will be 3\n",
    "z=float(3) # z will be '3.0'"
   ]
  },
  {
   "cell_type": "code",
   "execution_count": 16,
   "metadata": {},
   "outputs": [
    {
     "name": "stdout",
     "output_type": "stream",
     "text": [
      "<class 'int'>\n",
      "<class 'str'>\n"
     ]
    }
   ],
   "source": [
    "#Get the Type\n",
    "# you can get the datatype of a variable with the type() function\n",
    "\n",
    "x=5\n",
    "y='Rohit'\n",
    "print(type(x))\n",
    "print(type(y))"
   ]
  },
  {
   "cell_type": "code",
   "execution_count": 17,
   "metadata": {},
   "outputs": [],
   "source": [
    "# Single or Double Quotes\n",
    "# String variables can be declared either by using single or double quotes\n",
    "\n",
    "x='John'\n",
    "# is the same as\n",
    "x=\"John\"\n"
   ]
  },
  {
   "cell_type": "code",
   "execution_count": 18,
   "metadata": {},
   "outputs": [],
   "source": [
    "# Variable names are case-sensitive\n",
    "a=4\n",
    "A=\"Sally\"\n",
    "# A will not overwrite a\n"
   ]
  },
  {
   "cell_type": "code",
   "execution_count": 19,
   "metadata": {},
   "outputs": [],
   "source": [
    "#Variable Names\n",
    "'''\n",
    "A variable can have a short name (like x and y) or a more descriptive name (age, carname, total_volume).\n",
    "\n",
    "Rules for Python variables:\n",
    "a) A variable name must start with a letter or the underscore character\n",
    "b) A variable name cannot start with a number\n",
    "c) A variable name can only contain alpha-numeric characters and underscores (A-z, 0-9, and _ )\n",
    "d) Variable names are case-sensitive (age, Age and AGE are three different variables)\n",
    "e) A variable name cannot be any of the Python keywords.'''\n",
    "\n",
    "#Legal Variable Names\n",
    "myvar = \"John\"\n",
    "my_var = \"John\"\n",
    "_my_var = \"John\"\n",
    "myVar = \"John\"\n",
    "MYVAR = \"John\"\n",
    "myvar2 = \"John\"\n",
    "\n",
    "\n"
   ]
  },
  {
   "cell_type": "code",
   "execution_count": 20,
   "metadata": {},
   "outputs": [
    {
     "name": "stdout",
     "output_type": "stream",
     "text": [
      "Orange\n",
      "Banana\n",
      "Cherry\n"
     ]
    }
   ],
   "source": [
    "# Many values to multiple variables\n",
    "# Python allows you to assign values to multiple variables in one line\n",
    "\n",
    "x,y,z= \"Orange\",\"Banana\",\"Cherry\"\n",
    "print(x)\n",
    "print(y)\n",
    "print(z)\n",
    "\n",
    "\n",
    "# Note: Make sure the number of variables matches the number of values, or else you will get an error\n",
    "\n"
   ]
  },
  {
   "cell_type": "code",
   "execution_count": 21,
   "metadata": {},
   "outputs": [
    {
     "name": "stdout",
     "output_type": "stream",
     "text": [
      "Orange\n",
      "Orange\n",
      "Orange\n"
     ]
    }
   ],
   "source": [
    "# One Value to Multiple Variables\n",
    "x=y=z=\"Orange\"\n",
    "print(x)\n",
    "print(y)\n",
    "print(z)\n",
    "\n"
   ]
  },
  {
   "cell_type": "code",
   "execution_count": 22,
   "metadata": {},
   "outputs": [
    {
     "name": "stdout",
     "output_type": "stream",
     "text": [
      "['apple', 'banana', 'cherry']\n",
      "['apple', 'banana', 'cherry']\n",
      "['apple', 'banana', 'cherry']\n"
     ]
    }
   ],
   "source": [
    "# Unpacking Collection\n",
    "#If you have a collection of values in a list, tuple etc.\n",
    "# Python allows you to extract the values into variables. This is called unpacking\n",
    "\n",
    "\n",
    "fruits=[\"apple\",\"banana\",\"cherry\"]\n",
    "x=y=z=fruits\n",
    "print(x)\n",
    "print(y)\n",
    "print(z)\n",
    "\n"
   ]
  },
  {
   "cell_type": "code",
   "execution_count": 23,
   "metadata": {},
   "outputs": [
    {
     "name": "stdout",
     "output_type": "stream",
     "text": [
      "Python is awesome!\n"
     ]
    }
   ],
   "source": [
    "# Output Variables\n",
    "# Python print() function is often used to output variables\n",
    "\n",
    "x=\"Python is awesome!\"\n",
    "print(x)\n"
   ]
  },
  {
   "cell_type": "code",
   "execution_count": 24,
   "metadata": {},
   "outputs": [
    {
     "name": "stdout",
     "output_type": "stream",
     "text": [
      "Python is awesome\n"
     ]
    }
   ],
   "source": [
    "# In the print() function, you output multiple variables, separated by a comma\n",
    "\n",
    "x=\"Python\"\n",
    "y=\"is\"\n",
    "z=\"awesome\"\n",
    "print(x,y,z) "
   ]
  },
  {
   "cell_type": "code",
   "execution_count": 25,
   "metadata": {},
   "outputs": [
    {
     "name": "stdout",
     "output_type": "stream",
     "text": [
      "Python is awesome\n"
     ]
    }
   ],
   "source": [
    "# You can also use the + operator to output multiple variables:\n",
    "x= \"Python \"\n",
    "y=\"is \"\n",
    "z=\"awesome\"\n",
    "print(x+y+z)"
   ]
  },
  {
   "cell_type": "code",
   "execution_count": 26,
   "metadata": {},
   "outputs": [
    {
     "name": "stdout",
     "output_type": "stream",
     "text": [
      "15\n"
     ]
    }
   ],
   "source": [
    "# For numbers the + character works as a mathematical operator\n",
    "x=5\n",
    "y=10\n",
    "print(x+y) "
   ]
  },
  {
   "cell_type": "code",
   "execution_count": 27,
   "metadata": {},
   "outputs": [
    {
     "name": "stdout",
     "output_type": "stream",
     "text": [
      "5 John\n"
     ]
    }
   ],
   "source": [
    "# The best way to output multiple variables in the print() function is\n",
    "# to separate them with commas, which even support different data types\n",
    "\n",
    "x=\"5\"\n",
    "y='John'\n",
    "print(x,y)\n"
   ]
  },
  {
   "cell_type": "code",
   "execution_count": 28,
   "metadata": {},
   "outputs": [
    {
     "name": "stdout",
     "output_type": "stream",
     "text": [
      "Python is awesome\n"
     ]
    }
   ],
   "source": [
    "# Global Variables:- Variables that are created outside of a function are known as global variables\n",
    "# Global Variables can be used by everyone both inside of functions and outside\n",
    "\n",
    "x=\"awesome\"\n",
    "\n",
    "def myfunc():\n",
    "    print(\"Python is \" +x)\n",
    "myfunc()\n"
   ]
  },
  {
   "cell_type": "code",
   "execution_count": 29,
   "metadata": {},
   "outputs": [
    {
     "name": "stdout",
     "output_type": "stream",
     "text": [
      "Python is fantastic\n",
      "Python is awesome\n"
     ]
    }
   ],
   "source": [
    "'''If you create a variable with the same name inside a function, this variable will be local, and can only be used inside the function. \n",
    "The global variable with the same name will remain as it was, global and with the original value.\n",
    "Create a variable inside a function, with the same name as the global variable'''\n",
    "\n",
    "\n",
    "x='awesome'\n",
    "\n",
    "def myfunc():\n",
    "    x=\"fantastic\"\n",
    "    print(\"Python is \" +x)\n",
    "myfunc()\n",
    "\n",
    "print(\"Python is \" +x)\n",
    "\n"
   ]
  },
  {
   "cell_type": "code",
   "execution_count": 30,
   "metadata": {},
   "outputs": [
    {
     "name": "stdout",
     "output_type": "stream",
     "text": [
      "Python is fantastic\n"
     ]
    }
   ],
   "source": [
    "# The global keyword\n",
    "'''Normally, when you create a variable inside a function, that variable is local,\n",
    "and can only be used inside that function.\n",
    "To create a global variable inside a function, you can use the global keyword\n",
    "If you use the global keyword, the variable belongs to the global scope'''\n",
    "\n",
    "def myfunc():\n",
    "    global x\n",
    "    x='fantastic'\n",
    "    \n",
    "myfunc()\n",
    "\n",
    "print(\"Python is \" +x)\n",
    "\n",
    "\n",
    "\n"
   ]
  },
  {
   "cell_type": "code",
   "execution_count": 31,
   "metadata": {},
   "outputs": [
    {
     "name": "stdout",
     "output_type": "stream",
     "text": [
      "Python is fantastic\n"
     ]
    }
   ],
   "source": [
    "# Also, use the global keyword if you want to change a global variable inside a function\n",
    "\n",
    "x=\"awesome\"\n",
    "\n",
    "def myfunc():\n",
    "    global x\n",
    "    x='fantastic'\n",
    "    \n",
    "myfunc()\n",
    "\n",
    "print(\"Python is \" +x)"
   ]
  },
  {
   "cell_type": "code",
   "execution_count": null,
   "metadata": {},
   "outputs": [],
   "source": []
  }
 ],
 "metadata": {
  "kernelspec": {
   "display_name": "base",
   "language": "python",
   "name": "python3"
  },
  "language_info": {
   "codemirror_mode": {
    "name": "ipython",
    "version": 3
   },
   "file_extension": ".py",
   "mimetype": "text/x-python",
   "name": "python",
   "nbconvert_exporter": "python",
   "pygments_lexer": "ipython3",
   "version": "3.10.12"
  }
 },
 "nbformat": 4,
 "nbformat_minor": 2
}
